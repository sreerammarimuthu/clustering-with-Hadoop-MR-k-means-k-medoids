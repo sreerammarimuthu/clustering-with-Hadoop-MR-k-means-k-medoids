{
 "cells": [
  {
   "cell_type": "code",
   "execution_count": null,
   "id": "7f59fbc5",
   "metadata": {},
   "outputs": [],
   "source": [
    "import random\n",
    "\n",
    "# Number of data points\n",
    "num_data_points = 5000\n",
    "\n",
    "# Range for data points (0 to 10,000)\n",
    "data_range = 10000\n",
    "\n",
    "# Number of seed points (K value)\n",
    "num_seed_points = 10 "
   ]
  },
  {
   "cell_type": "code",
   "execution_count": null,
   "id": "1e522851",
   "metadata": {},
   "outputs": [],
   "source": [
    "data_points = [(random.randint(0, data_range), random.randint(0, data_range)) for _ in range(num_data_points)]\n",
    "seed_points = [(random.randint(0, data_range), random.randint(0, data_range)) for _ in range(num_seed_points)]\n",
    "\n",
    "# Save the data points to a file\n",
    "with open('data_points.txt', 'w') as data_file:\n",
    "    for point in data_points:\n",
    "        data_file.write(f\"{point[0]},{point[1]}\\n\")\n",
    "\n",
    "# Save the seed points to a file\n",
    "with open('seed_points.txt', 'w') as seed_file:\n",
    "    for point in seed_points:\n",
    "        seed_file.write(f\"{point[0]},{point[1]}\\n\")"
   ]
  }
 ],
 "metadata": {
  "kernelspec": {
   "display_name": "Python 3 (ipykernel)",
   "language": "python",
   "name": "python3"
  },
  "language_info": {
   "codemirror_mode": {
    "name": "ipython",
    "version": 3
   },
   "file_extension": ".py",
   "mimetype": "text/x-python",
   "name": "python",
   "nbconvert_exporter": "python",
   "pygments_lexer": "ipython3",
   "version": "3.11.4"
  }
 },
 "nbformat": 4,
 "nbformat_minor": 5
}
